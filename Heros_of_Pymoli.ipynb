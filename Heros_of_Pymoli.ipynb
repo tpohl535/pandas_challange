{
 "cells": [
  {
   "cell_type": "code",
   "execution_count": 1,
   "metadata": {},
   "outputs": [],
   "source": [
    "%load_ext lab_black"
   ]
  },
  {
   "cell_type": "code",
   "execution_count": 2,
   "metadata": {},
   "outputs": [],
   "source": [
    "import pandas as pd\n",
    "\n",
    "load_file = \"Resources/purchase_data.csv\"\n",
    "df = pd.read_csv(load_file)"
   ]
  },
  {
   "cell_type": "code",
   "execution_count": 3,
   "metadata": {},
   "outputs": [],
   "source": [
    "def dollar_sign(amount):\n",
    "    correct_format = \"{:.2f}\".format(amount)\n",
    "    return f\"$ {correct_format}\"\n",
    "\n",
    "\n",
    "def precent_sign(value):\n",
    "    return f\"{value} %\""
   ]
  },
  {
   "cell_type": "code",
   "execution_count": 4,
   "metadata": {},
   "outputs": [],
   "source": [
    "clean_df = df.rename(columns=lambda s: s.lower().replace(\" \", \"_\"))"
   ]
  },
  {
   "cell_type": "markdown",
   "metadata": {},
   "source": [
    "## Player Count"
   ]
  },
  {
   "cell_type": "code",
   "execution_count": 5,
   "metadata": {},
   "outputs": [],
   "source": [
    "players_unique = clean_df[\"sn\"].nunique()"
   ]
  },
  {
   "cell_type": "code",
   "execution_count": 6,
   "metadata": {},
   "outputs": [],
   "source": [
    "t_players_df = pd.DataFrame([{\"Total Players\": players_unique}])"
   ]
  },
  {
   "cell_type": "markdown",
   "metadata": {},
   "source": [
    "## Purchasing Analysis (Total)"
   ]
  },
  {
   "cell_type": "code",
   "execution_count": 8,
   "metadata": {},
   "outputs": [],
   "source": [
    "items_unique = clean_df[\"item_id\"].nunique()\n",
    "avg_item_price = round(clean_df[\"price\"].mean(), 2)\n",
    "num_purchases = clean_df[\"item_name\"].count()\n",
    "total_rev = round(clean_df[\"price\"].sum(), 2)"
   ]
  },
  {
   "cell_type": "code",
   "execution_count": 9,
   "metadata": {},
   "outputs": [],
   "source": [
    "purch_analysis_df = pd.DataFrame(\n",
    "    {\n",
    "        \"Number of Unique Items\": [items_unique],\n",
    "        \"Average Sales Price\": [avg_item_price],\n",
    "        \"Total Number of Purchases\": [num_purchases],\n",
    "        \"Total Revanue\": [total_rev],\n",
    "    }\n",
    ")"
   ]
  },
  {
   "cell_type": "code",
   "execution_count": 10,
   "metadata": {},
   "outputs": [],
   "source": [
    "purch_analysis_df[\"Average Sales Price\"] = purch_analysis_df[\n",
    "    \"Average Sales Price\"\n",
    "].apply(dollar_sign)\n",
    "purch_analysis_df[\"Total Revanue\"] = purch_analysis_df[\"Total Revanue\"].apply(\n",
    "    dollar_sign\n",
    ")"
   ]
  },
  {
   "cell_type": "markdown",
   "metadata": {},
   "source": [
    "## Gender Demographics"
   ]
  },
  {
   "cell_type": "code",
   "execution_count": 12,
   "metadata": {},
   "outputs": [],
   "source": [
    "count_male = clean_df.loc[clean_df[\"gender\"] == \"Male\", \"sn\"].nunique()\n",
    "count_female = clean_df.loc[clean_df[\"gender\"] == \"Female\", \"sn\"].nunique()\n",
    "count_other = clean_df.loc[\n",
    "    clean_df[\"gender\"] == \"Other / Non-Disclosed\", \"sn\"\n",
    "].nunique()"
   ]
  },
  {
   "cell_type": "code",
   "execution_count": 13,
   "metadata": {},
   "outputs": [],
   "source": [
    "prec_male = round((count_male / players_unique * 100), 2)\n",
    "prec_female = round((count_female / players_unique * 100), 2)\n",
    "prec_other = round((count_other / players_unique * 100), 2)"
   ]
  },
  {
   "cell_type": "code",
   "execution_count": 14,
   "metadata": {},
   "outputs": [],
   "source": [
    "gender_df = pd.DataFrame(\n",
    "    {\n",
    "        \"Total Count\": [count_male, count_female, count_other],\n",
    "        \"Precentage of Players\": [prec_male, prec_female, prec_other],\n",
    "    },\n",
    "    index=[\"Male\", \"Female\", \"Other / Non-Disclosed\"],\n",
    ")"
   ]
  },
  {
   "cell_type": "code",
   "execution_count": 15,
   "metadata": {},
   "outputs": [],
   "source": [
    "gender_df[\"Precentage of Players\"] = gender_df[\"Precentage of Players\"].apply(\n",
    "    precent_sign\n",
    ")"
   ]
  },
  {
   "cell_type": "markdown",
   "metadata": {},
   "source": [
    "## Purchasing Analysis (Gender)"
   ]
  },
  {
   "cell_type": "code",
   "execution_count": 17,
   "metadata": {},
   "outputs": [],
   "source": [
    "purchas_count_male = clean_df.loc[clean_df[\"gender\"] == \"Male\", \"sn\"].count()\n",
    "purchas_count_female = clean_df.loc[clean_df[\"gender\"] == \"Female\", \"sn\"].count()\n",
    "purchas_count_other = clean_df.loc[\n",
    "    clean_df[\"gender\"] == \"Other / Non-Disclosed\", \"sn\"\n",
    "].count()"
   ]
  },
  {
   "cell_type": "code",
   "execution_count": 18,
   "metadata": {},
   "outputs": [],
   "source": [
    "average_purchase_male = round(\n",
    "    clean_df.loc[clean_df[\"gender\"] == \"Male\", \"price\"].mean(), 2\n",
    ")\n",
    "average_purchase_female = round(\n",
    "    clean_df.loc[clean_df[\"gender\"] == \"Female\", \"price\"].mean(), 2\n",
    ")\n",
    "average_purchase_ohter = round(\n",
    "    clean_df.loc[clean_df[\"gender\"] == \"Other / Non-Disclosed\", \"price\"].mean(), 2\n",
    ")"
   ]
  },
  {
   "cell_type": "code",
   "execution_count": 19,
   "metadata": {},
   "outputs": [],
   "source": [
    "rev_total_male = clean_df.loc[clean_df[\"gender\"] == \"Male\", \"price\"].sum()\n",
    "rev_total_female = clean_df.loc[clean_df[\"gender\"] == \"Female\", \"price\"].sum()\n",
    "rev_total_other = clean_df.loc[\n",
    "    clean_df[\"gender\"] == \"Other / Non-Disclosed\", \"price\"\n",
    "].sum()"
   ]
  },
  {
   "cell_type": "code",
   "execution_count": 20,
   "metadata": {},
   "outputs": [],
   "source": [
    "sales_per_male = round(rev_total_male / count_male, 2)\n",
    "sales_per_female = round(rev_total_female / count_female, 2)\n",
    "sales_per_mother = round(rev_total_other / count_other, 2)"
   ]
  },
  {
   "cell_type": "code",
   "execution_count": 21,
   "metadata": {},
   "outputs": [],
   "source": [
    "gender_analysis_df = pd.DataFrame(\n",
    "    {\n",
    "        \"Purchase Count\": [\n",
    "            purchas_count_male,\n",
    "            purchas_count_female,\n",
    "            purchas_count_other,\n",
    "        ],\n",
    "        \"Average Purchase Price\": [\n",
    "            average_purchase_male,\n",
    "            average_purchase_female,\n",
    "            average_purchase_ohter,\n",
    "        ],\n",
    "        \"Total Purchase Value\": [rev_total_male, rev_total_female, rev_total_other],\n",
    "        \"Avg Total Purchase per Person\": [\n",
    "            sales_per_male,\n",
    "            sales_per_female,\n",
    "            sales_per_mother,\n",
    "        ],\n",
    "    },\n",
    "    index=[\"Male\", \"Female\", \"Other / Non-Disclosed\"],\n",
    ")"
   ]
  },
  {
   "cell_type": "code",
   "execution_count": 22,
   "metadata": {},
   "outputs": [],
   "source": [
    "gender_analysis_df[\"Average Purchase Price\"] = gender_analysis_df[\n",
    "    \"Average Purchase Price\"\n",
    "].apply(dollar_sign)\n",
    "gender_analysis_df[\"Total Purchase Value\"] = gender_analysis_df[\n",
    "    \"Total Purchase Value\"\n",
    "].apply(dollar_sign)\n",
    "gender_analysis_df[\"Avg Total Purchase per Person\"] = gender_analysis_df[\n",
    "    \"Avg Total Purchase per Person\"\n",
    "].apply(dollar_sign)"
   ]
  },
  {
   "cell_type": "markdown",
   "metadata": {},
   "source": [
    "## Age Demographics"
   ]
  },
  {
   "cell_type": "code",
   "execution_count": 24,
   "metadata": {},
   "outputs": [],
   "source": [
    "clean_df[\"Age Groups\"] = pd.cut(\n",
    "    clean_df[\"age\"],\n",
    "    bins=[0, 10, 15, 20, 25, 30, 35, 40, 100],\n",
    "    labels=[\"<10\", \"10-14\", \"15-19\", \"20-24\", \"25-29\", \"30-34\", \"35-39\", \"40+\"],\n",
    "    right=False,\n",
    ")"
   ]
  },
  {
   "cell_type": "code",
   "execution_count": 25,
   "metadata": {},
   "outputs": [],
   "source": [
    "age_groups = clean_df.groupby([\"Age Groups\"])\n",
    "unique_age_counts = age_groups[\"sn\"].nunique()\n",
    "age_precent = round((unique_age_counts / players_unique) * 100, 2)"
   ]
  },
  {
   "cell_type": "code",
   "execution_count": 26,
   "metadata": {},
   "outputs": [],
   "source": [
    "age_demo = pd.DataFrame(\n",
    "    {\"Age Groups Count\": unique_age_counts, \"Precentage of Players\": age_precent},\n",
    "    index=[\"<10\", \"10-14\", \"15-19\", \"20-24\", \"25-29\", \"30-34\", \"35-39\", \"40+\"],\n",
    ")"
   ]
  },
  {
   "cell_type": "code",
   "execution_count": 27,
   "metadata": {},
   "outputs": [],
   "source": [
    "age_demo[\"Precentage of Players\"] = age_demo[\"Precentage of Players\"].apply(\n",
    "    precent_sign\n",
    ")"
   ]
  },
  {
   "cell_type": "markdown",
   "metadata": {},
   "source": [
    "## Purchasing Analysis (Age)"
   ]
  },
  {
   "cell_type": "code",
   "execution_count": 29,
   "metadata": {},
   "outputs": [],
   "source": [
    "full_age_counts = age_groups[\"sn\"].count()\n",
    "revenue_by_age = age_groups[\"price\"].sum()\n",
    "age_average_spending = round((revenue_by_age / full_age_counts), 2)\n",
    "per_person_reveanue = round((revenue_by_age / unique_age_counts), 2)"
   ]
  },
  {
   "cell_type": "code",
   "execution_count": 30,
   "metadata": {},
   "outputs": [],
   "source": [
    "age_analysis = pd.DataFrame(\n",
    "    {\n",
    "        \"Purchase Count\": full_age_counts,\n",
    "        \"Average Purchase Price\": age_average_spending,\n",
    "        \"Total Purchase Value\": revenue_by_age,\n",
    "        \"Avg Total Purchase per Person\": per_person_reveanue,\n",
    "    },\n",
    ")"
   ]
  },
  {
   "cell_type": "code",
   "execution_count": 31,
   "metadata": {},
   "outputs": [],
   "source": [
    "age_analysis[\"Average Purchase Price\"] = age_analysis[\"Average Purchase Price\"].apply(\n",
    "    dollar_sign\n",
    ")\n",
    "age_analysis[\"Total Purchase Value\"] = age_analysis[\"Total Purchase Value\"].apply(\n",
    "    dollar_sign\n",
    ")\n",
    "age_analysis[\"Avg Total Purchase per Person\"] = age_analysis[\n",
    "    \"Avg Total Purchase per Person\"\n",
    "].apply(dollar_sign)"
   ]
  },
  {
   "cell_type": "markdown",
   "metadata": {},
   "source": [
    "## Top Spenders"
   ]
  },
  {
   "cell_type": "code",
   "execution_count": 33,
   "metadata": {},
   "outputs": [],
   "source": [
    "sn_groups = clean_df.groupby([\"sn\"])\n",
    "purchase_value = sn_groups[\"price\"].sum()\n",
    "sn_purchase_counts = sn_groups[\"purchase_id\"].count()\n",
    "sn_avg_purchase = round(purchase_value / sn_purchase_counts, 2)"
   ]
  },
  {
   "cell_type": "code",
   "execution_count": 34,
   "metadata": {},
   "outputs": [],
   "source": [
    "top_spend_df = pd.DataFrame(\n",
    "    {\n",
    "        \"Purchase Count\": sn_purchase_counts,\n",
    "        \"Average Purchase Price\": sn_avg_purchase,\n",
    "        \"Total Purchase Value\": purchase_value,\n",
    "    }\n",
    ")"
   ]
  },
  {
   "cell_type": "code",
   "execution_count": 35,
   "metadata": {},
   "outputs": [],
   "source": [
    "top_spend_df = top_spend_df.sort_values(\"Total Purchase Value\", ascending=False).head(5)"
   ]
  },
  {
   "cell_type": "code",
   "execution_count": 36,
   "metadata": {},
   "outputs": [],
   "source": [
    "top_spend_df[\"Average Purchase Price\"] = top_spend_df[\"Average Purchase Price\"].apply(\n",
    "    dollar_sign\n",
    ")\n",
    "top_spend_df[\"Total Purchase Value\"] = top_spend_df[\"Total Purchase Value\"].apply(\n",
    "    dollar_sign\n",
    ")"
   ]
  },
  {
   "cell_type": "markdown",
   "metadata": {},
   "source": [
    "## Most Popular Items"
   ]
  },
  {
   "cell_type": "code",
   "execution_count": 38,
   "metadata": {},
   "outputs": [],
   "source": [
    "item_df = clean_df[[\"item_id\", \"item_name\", \"price\"]]"
   ]
  },
  {
   "cell_type": "code",
   "execution_count": 39,
   "metadata": {},
   "outputs": [],
   "source": [
    "item_info_group = item_df.groupby([\"item_id\", \"item_name\"])"
   ]
  },
  {
   "cell_type": "code",
   "execution_count": 40,
   "metadata": {},
   "outputs": [],
   "source": [
    "items_count = item_info_group[\"price\"].count()\n",
    "items_price = item_info_group[\"price\"].mean()\n",
    "items_total_rev = items_count * items_price"
   ]
  },
  {
   "cell_type": "code",
   "execution_count": 41,
   "metadata": {},
   "outputs": [],
   "source": [
    "popular_items_df = pd.DataFrame(\n",
    "    {\n",
    "        \"Purchase Count\": items_count,\n",
    "        \"Item Price\": items_price,\n",
    "        \"Total Purchase Value\": items_total_rev,\n",
    "    }\n",
    ")"
   ]
  },
  {
   "cell_type": "code",
   "execution_count": 42,
   "metadata": {},
   "outputs": [],
   "source": [
    "popular_items_top_5 = popular_items_df.sort_values(\n",
    "    \"Purchase Count\", ascending=False\n",
    ").head(5)"
   ]
  },
  {
   "cell_type": "code",
   "execution_count": 43,
   "metadata": {},
   "outputs": [],
   "source": [
    "popular_items_top_5[\"Item Price\"] = popular_items_top_5[\"Item Price\"].apply(dollar_sign)\n",
    "popular_items_top_5[\"Total Purchase Value\"] = popular_items_top_5[\n",
    "    \"Total Purchase Value\"\n",
    "].apply(dollar_sign)"
   ]
  },
  {
   "cell_type": "markdown",
   "metadata": {},
   "source": [
    "## Most Profitable Items"
   ]
  },
  {
   "cell_type": "code",
   "execution_count": 45,
   "metadata": {},
   "outputs": [],
   "source": [
    "most_profitale_items_df = popular_items_df.sort_values(\n",
    "    \"Total Purchase Value\", ascending=False\n",
    ").head(5)"
   ]
  },
  {
   "cell_type": "code",
   "execution_count": 46,
   "metadata": {},
   "outputs": [],
   "source": [
    "most_profitale_items_df[\"Item Price\"] = most_profitale_items_df[\"Item Price\"].apply(\n",
    "    dollar_sign\n",
    ")\n",
    "most_profitale_items_df[\"Total Purchase Value\"] = most_profitale_items_df[\n",
    "    \"Total Purchase Value\"\n",
    "].apply(dollar_sign)"
   ]
  },
  {
   "cell_type": "markdown",
   "metadata": {},
   "source": [
    "## Player Count"
   ]
  },
  {
   "cell_type": "code",
   "execution_count": 7,
   "metadata": {},
   "outputs": [
    {
     "data": {
      "text/html": [
       "<div>\n",
       "<style scoped>\n",
       "    .dataframe tbody tr th:only-of-type {\n",
       "        vertical-align: middle;\n",
       "    }\n",
       "\n",
       "    .dataframe tbody tr th {\n",
       "        vertical-align: top;\n",
       "    }\n",
       "\n",
       "    .dataframe thead th {\n",
       "        text-align: right;\n",
       "    }\n",
       "</style>\n",
       "<table border=\"1\" class=\"dataframe\">\n",
       "  <thead>\n",
       "    <tr style=\"text-align: right;\">\n",
       "      <th></th>\n",
       "      <th>Total Players</th>\n",
       "    </tr>\n",
       "  </thead>\n",
       "  <tbody>\n",
       "    <tr>\n",
       "      <th>0</th>\n",
       "      <td>576</td>\n",
       "    </tr>\n",
       "  </tbody>\n",
       "</table>\n",
       "</div>"
      ],
      "text/plain": [
       "   Total Players\n",
       "0            576"
      ]
     },
     "execution_count": 7,
     "metadata": {},
     "output_type": "execute_result"
    }
   ],
   "source": [
    "t_players_df"
   ]
  },
  {
   "cell_type": "markdown",
   "metadata": {},
   "source": [
    "## Purchasing Analysis (Total)"
   ]
  },
  {
   "cell_type": "code",
   "execution_count": 55,
   "metadata": {},
   "outputs": [
    {
     "data": {
      "text/html": [
       "<div>\n",
       "<style scoped>\n",
       "    .dataframe tbody tr th:only-of-type {\n",
       "        vertical-align: middle;\n",
       "    }\n",
       "\n",
       "    .dataframe tbody tr th {\n",
       "        vertical-align: top;\n",
       "    }\n",
       "\n",
       "    .dataframe thead th {\n",
       "        text-align: right;\n",
       "    }\n",
       "</style>\n",
       "<table border=\"1\" class=\"dataframe\">\n",
       "  <thead>\n",
       "    <tr style=\"text-align: right;\">\n",
       "      <th></th>\n",
       "      <th>Number of Unique Items</th>\n",
       "      <th>Average Sales Price</th>\n",
       "      <th>Total Number of Purchases</th>\n",
       "      <th>Total Revanue</th>\n",
       "    </tr>\n",
       "  </thead>\n",
       "  <tbody>\n",
       "    <tr>\n",
       "      <th>0</th>\n",
       "      <td>183</td>\n",
       "      <td>$ 3.05</td>\n",
       "      <td>780</td>\n",
       "      <td>$ 2379.77</td>\n",
       "    </tr>\n",
       "  </tbody>\n",
       "</table>\n",
       "</div>"
      ],
      "text/plain": [
       "   Number of Unique Items Average Sales Price  Total Number of Purchases  \\\n",
       "0                     183              $ 3.05                        780   \n",
       "\n",
       "  Total Revanue  \n",
       "0     $ 2379.77  "
      ]
     },
     "execution_count": 55,
     "metadata": {},
     "output_type": "execute_result"
    }
   ],
   "source": [
    "purch_analysis_df"
   ]
  },
  {
   "cell_type": "markdown",
   "metadata": {},
   "source": [
    "## Gender Demographics"
   ]
  },
  {
   "cell_type": "code",
   "execution_count": 48,
   "metadata": {},
   "outputs": [
    {
     "data": {
      "text/html": [
       "<div>\n",
       "<style scoped>\n",
       "    .dataframe tbody tr th:only-of-type {\n",
       "        vertical-align: middle;\n",
       "    }\n",
       "\n",
       "    .dataframe tbody tr th {\n",
       "        vertical-align: top;\n",
       "    }\n",
       "\n",
       "    .dataframe thead th {\n",
       "        text-align: right;\n",
       "    }\n",
       "</style>\n",
       "<table border=\"1\" class=\"dataframe\">\n",
       "  <thead>\n",
       "    <tr style=\"text-align: right;\">\n",
       "      <th></th>\n",
       "      <th>Total Count</th>\n",
       "      <th>Precentage of Players</th>\n",
       "    </tr>\n",
       "  </thead>\n",
       "  <tbody>\n",
       "    <tr>\n",
       "      <th>Male</th>\n",
       "      <td>484</td>\n",
       "      <td>84.03 %</td>\n",
       "    </tr>\n",
       "    <tr>\n",
       "      <th>Female</th>\n",
       "      <td>81</td>\n",
       "      <td>14.06 %</td>\n",
       "    </tr>\n",
       "    <tr>\n",
       "      <th>Other / Non-Disclosed</th>\n",
       "      <td>11</td>\n",
       "      <td>1.91 %</td>\n",
       "    </tr>\n",
       "  </tbody>\n",
       "</table>\n",
       "</div>"
      ],
      "text/plain": [
       "                       Total Count Precentage of Players\n",
       "Male                           484               84.03 %\n",
       "Female                          81               14.06 %\n",
       "Other / Non-Disclosed           11                1.91 %"
      ]
     },
     "execution_count": 48,
     "metadata": {},
     "output_type": "execute_result"
    }
   ],
   "source": [
    "gender_df"
   ]
  },
  {
   "cell_type": "markdown",
   "metadata": {},
   "source": [
    "## Purchasing Analysis (Gender)"
   ]
  },
  {
   "cell_type": "code",
   "execution_count": 49,
   "metadata": {},
   "outputs": [
    {
     "data": {
      "text/html": [
       "<div>\n",
       "<style scoped>\n",
       "    .dataframe tbody tr th:only-of-type {\n",
       "        vertical-align: middle;\n",
       "    }\n",
       "\n",
       "    .dataframe tbody tr th {\n",
       "        vertical-align: top;\n",
       "    }\n",
       "\n",
       "    .dataframe thead th {\n",
       "        text-align: right;\n",
       "    }\n",
       "</style>\n",
       "<table border=\"1\" class=\"dataframe\">\n",
       "  <thead>\n",
       "    <tr style=\"text-align: right;\">\n",
       "      <th></th>\n",
       "      <th>Purchase Count</th>\n",
       "      <th>Average Purchase Price</th>\n",
       "      <th>Total Purchase Value</th>\n",
       "      <th>Avg Total Purchase per Person</th>\n",
       "    </tr>\n",
       "  </thead>\n",
       "  <tbody>\n",
       "    <tr>\n",
       "      <th>Male</th>\n",
       "      <td>652</td>\n",
       "      <td>$ 3.02</td>\n",
       "      <td>$ 1967.64</td>\n",
       "      <td>$ 4.07</td>\n",
       "    </tr>\n",
       "    <tr>\n",
       "      <th>Female</th>\n",
       "      <td>113</td>\n",
       "      <td>$ 3.20</td>\n",
       "      <td>$ 361.94</td>\n",
       "      <td>$ 4.47</td>\n",
       "    </tr>\n",
       "    <tr>\n",
       "      <th>Other / Non-Disclosed</th>\n",
       "      <td>15</td>\n",
       "      <td>$ 3.35</td>\n",
       "      <td>$ 50.19</td>\n",
       "      <td>$ 4.56</td>\n",
       "    </tr>\n",
       "  </tbody>\n",
       "</table>\n",
       "</div>"
      ],
      "text/plain": [
       "                       Purchase Count Average Purchase Price  \\\n",
       "Male                              652                 $ 3.02   \n",
       "Female                            113                 $ 3.20   \n",
       "Other / Non-Disclosed              15                 $ 3.35   \n",
       "\n",
       "                      Total Purchase Value Avg Total Purchase per Person  \n",
       "Male                             $ 1967.64                        $ 4.07  \n",
       "Female                            $ 361.94                        $ 4.47  \n",
       "Other / Non-Disclosed              $ 50.19                        $ 4.56  "
      ]
     },
     "execution_count": 49,
     "metadata": {},
     "output_type": "execute_result"
    }
   ],
   "source": [
    "gender_analysis_df"
   ]
  },
  {
   "cell_type": "markdown",
   "metadata": {},
   "source": [
    "## Age Demographics"
   ]
  },
  {
   "cell_type": "code",
   "execution_count": 50,
   "metadata": {},
   "outputs": [
    {
     "data": {
      "text/html": [
       "<div>\n",
       "<style scoped>\n",
       "    .dataframe tbody tr th:only-of-type {\n",
       "        vertical-align: middle;\n",
       "    }\n",
       "\n",
       "    .dataframe tbody tr th {\n",
       "        vertical-align: top;\n",
       "    }\n",
       "\n",
       "    .dataframe thead th {\n",
       "        text-align: right;\n",
       "    }\n",
       "</style>\n",
       "<table border=\"1\" class=\"dataframe\">\n",
       "  <thead>\n",
       "    <tr style=\"text-align: right;\">\n",
       "      <th></th>\n",
       "      <th>Age Groups Count</th>\n",
       "      <th>Precentage of Players</th>\n",
       "    </tr>\n",
       "  </thead>\n",
       "  <tbody>\n",
       "    <tr>\n",
       "      <th>&lt;10</th>\n",
       "      <td>17</td>\n",
       "      <td>2.95 %</td>\n",
       "    </tr>\n",
       "    <tr>\n",
       "      <th>10-14</th>\n",
       "      <td>22</td>\n",
       "      <td>3.82 %</td>\n",
       "    </tr>\n",
       "    <tr>\n",
       "      <th>15-19</th>\n",
       "      <td>107</td>\n",
       "      <td>18.58 %</td>\n",
       "    </tr>\n",
       "    <tr>\n",
       "      <th>20-24</th>\n",
       "      <td>258</td>\n",
       "      <td>44.79 %</td>\n",
       "    </tr>\n",
       "    <tr>\n",
       "      <th>25-29</th>\n",
       "      <td>77</td>\n",
       "      <td>13.37 %</td>\n",
       "    </tr>\n",
       "    <tr>\n",
       "      <th>30-34</th>\n",
       "      <td>52</td>\n",
       "      <td>9.03 %</td>\n",
       "    </tr>\n",
       "    <tr>\n",
       "      <th>35-39</th>\n",
       "      <td>31</td>\n",
       "      <td>5.38 %</td>\n",
       "    </tr>\n",
       "    <tr>\n",
       "      <th>40+</th>\n",
       "      <td>12</td>\n",
       "      <td>2.08 %</td>\n",
       "    </tr>\n",
       "  </tbody>\n",
       "</table>\n",
       "</div>"
      ],
      "text/plain": [
       "       Age Groups Count Precentage of Players\n",
       "<10                  17                2.95 %\n",
       "10-14                22                3.82 %\n",
       "15-19               107               18.58 %\n",
       "20-24               258               44.79 %\n",
       "25-29                77               13.37 %\n",
       "30-34                52                9.03 %\n",
       "35-39                31                5.38 %\n",
       "40+                  12                2.08 %"
      ]
     },
     "execution_count": 50,
     "metadata": {},
     "output_type": "execute_result"
    }
   ],
   "source": [
    "age_demo"
   ]
  },
  {
   "cell_type": "markdown",
   "metadata": {},
   "source": [
    "## Purchasing Analysis (Age)"
   ]
  },
  {
   "cell_type": "code",
   "execution_count": 51,
   "metadata": {},
   "outputs": [
    {
     "data": {
      "text/html": [
       "<div>\n",
       "<style scoped>\n",
       "    .dataframe tbody tr th:only-of-type {\n",
       "        vertical-align: middle;\n",
       "    }\n",
       "\n",
       "    .dataframe tbody tr th {\n",
       "        vertical-align: top;\n",
       "    }\n",
       "\n",
       "    .dataframe thead th {\n",
       "        text-align: right;\n",
       "    }\n",
       "</style>\n",
       "<table border=\"1\" class=\"dataframe\">\n",
       "  <thead>\n",
       "    <tr style=\"text-align: right;\">\n",
       "      <th></th>\n",
       "      <th>Purchase Count</th>\n",
       "      <th>Average Purchase Price</th>\n",
       "      <th>Total Purchase Value</th>\n",
       "      <th>Avg Total Purchase per Person</th>\n",
       "    </tr>\n",
       "    <tr>\n",
       "      <th>Age Groups</th>\n",
       "      <th></th>\n",
       "      <th></th>\n",
       "      <th></th>\n",
       "      <th></th>\n",
       "    </tr>\n",
       "  </thead>\n",
       "  <tbody>\n",
       "    <tr>\n",
       "      <th>&lt;10</th>\n",
       "      <td>23</td>\n",
       "      <td>$ 3.35</td>\n",
       "      <td>$ 77.13</td>\n",
       "      <td>$ 4.54</td>\n",
       "    </tr>\n",
       "    <tr>\n",
       "      <th>10-14</th>\n",
       "      <td>28</td>\n",
       "      <td>$ 2.96</td>\n",
       "      <td>$ 82.78</td>\n",
       "      <td>$ 3.76</td>\n",
       "    </tr>\n",
       "    <tr>\n",
       "      <th>15-19</th>\n",
       "      <td>136</td>\n",
       "      <td>$ 3.04</td>\n",
       "      <td>$ 412.89</td>\n",
       "      <td>$ 3.86</td>\n",
       "    </tr>\n",
       "    <tr>\n",
       "      <th>20-24</th>\n",
       "      <td>365</td>\n",
       "      <td>$ 3.05</td>\n",
       "      <td>$ 1114.06</td>\n",
       "      <td>$ 4.32</td>\n",
       "    </tr>\n",
       "    <tr>\n",
       "      <th>25-29</th>\n",
       "      <td>101</td>\n",
       "      <td>$ 2.90</td>\n",
       "      <td>$ 293.00</td>\n",
       "      <td>$ 3.81</td>\n",
       "    </tr>\n",
       "    <tr>\n",
       "      <th>30-34</th>\n",
       "      <td>73</td>\n",
       "      <td>$ 2.93</td>\n",
       "      <td>$ 214.00</td>\n",
       "      <td>$ 4.12</td>\n",
       "    </tr>\n",
       "    <tr>\n",
       "      <th>35-39</th>\n",
       "      <td>41</td>\n",
       "      <td>$ 3.60</td>\n",
       "      <td>$ 147.67</td>\n",
       "      <td>$ 4.76</td>\n",
       "    </tr>\n",
       "    <tr>\n",
       "      <th>40+</th>\n",
       "      <td>13</td>\n",
       "      <td>$ 2.94</td>\n",
       "      <td>$ 38.24</td>\n",
       "      <td>$ 3.19</td>\n",
       "    </tr>\n",
       "  </tbody>\n",
       "</table>\n",
       "</div>"
      ],
      "text/plain": [
       "            Purchase Count Average Purchase Price Total Purchase Value  \\\n",
       "Age Groups                                                               \n",
       "<10                     23                 $ 3.35              $ 77.13   \n",
       "10-14                   28                 $ 2.96              $ 82.78   \n",
       "15-19                  136                 $ 3.04             $ 412.89   \n",
       "20-24                  365                 $ 3.05            $ 1114.06   \n",
       "25-29                  101                 $ 2.90             $ 293.00   \n",
       "30-34                   73                 $ 2.93             $ 214.00   \n",
       "35-39                   41                 $ 3.60             $ 147.67   \n",
       "40+                     13                 $ 2.94              $ 38.24   \n",
       "\n",
       "           Avg Total Purchase per Person  \n",
       "Age Groups                                \n",
       "<10                               $ 4.54  \n",
       "10-14                             $ 3.76  \n",
       "15-19                             $ 3.86  \n",
       "20-24                             $ 4.32  \n",
       "25-29                             $ 3.81  \n",
       "30-34                             $ 4.12  \n",
       "35-39                             $ 4.76  \n",
       "40+                               $ 3.19  "
      ]
     },
     "execution_count": 51,
     "metadata": {},
     "output_type": "execute_result"
    }
   ],
   "source": [
    "age_analysis"
   ]
  },
  {
   "cell_type": "markdown",
   "metadata": {},
   "source": [
    "## Top Spenders"
   ]
  },
  {
   "cell_type": "code",
   "execution_count": 52,
   "metadata": {},
   "outputs": [
    {
     "data": {
      "text/html": [
       "<div>\n",
       "<style scoped>\n",
       "    .dataframe tbody tr th:only-of-type {\n",
       "        vertical-align: middle;\n",
       "    }\n",
       "\n",
       "    .dataframe tbody tr th {\n",
       "        vertical-align: top;\n",
       "    }\n",
       "\n",
       "    .dataframe thead th {\n",
       "        text-align: right;\n",
       "    }\n",
       "</style>\n",
       "<table border=\"1\" class=\"dataframe\">\n",
       "  <thead>\n",
       "    <tr style=\"text-align: right;\">\n",
       "      <th></th>\n",
       "      <th>Purchase Count</th>\n",
       "      <th>Average Purchase Price</th>\n",
       "      <th>Total Purchase Value</th>\n",
       "    </tr>\n",
       "    <tr>\n",
       "      <th>sn</th>\n",
       "      <th></th>\n",
       "      <th></th>\n",
       "      <th></th>\n",
       "    </tr>\n",
       "  </thead>\n",
       "  <tbody>\n",
       "    <tr>\n",
       "      <th>Lisosia93</th>\n",
       "      <td>5</td>\n",
       "      <td>$ 3.79</td>\n",
       "      <td>$ 18.96</td>\n",
       "    </tr>\n",
       "    <tr>\n",
       "      <th>Idastidru52</th>\n",
       "      <td>4</td>\n",
       "      <td>$ 3.86</td>\n",
       "      <td>$ 15.45</td>\n",
       "    </tr>\n",
       "    <tr>\n",
       "      <th>Chamjask73</th>\n",
       "      <td>3</td>\n",
       "      <td>$ 4.61</td>\n",
       "      <td>$ 13.83</td>\n",
       "    </tr>\n",
       "    <tr>\n",
       "      <th>Iral74</th>\n",
       "      <td>4</td>\n",
       "      <td>$ 3.40</td>\n",
       "      <td>$ 13.62</td>\n",
       "    </tr>\n",
       "    <tr>\n",
       "      <th>Iskadarya95</th>\n",
       "      <td>3</td>\n",
       "      <td>$ 4.37</td>\n",
       "      <td>$ 13.10</td>\n",
       "    </tr>\n",
       "  </tbody>\n",
       "</table>\n",
       "</div>"
      ],
      "text/plain": [
       "             Purchase Count Average Purchase Price Total Purchase Value\n",
       "sn                                                                     \n",
       "Lisosia93                 5                 $ 3.79              $ 18.96\n",
       "Idastidru52               4                 $ 3.86              $ 15.45\n",
       "Chamjask73                3                 $ 4.61              $ 13.83\n",
       "Iral74                    4                 $ 3.40              $ 13.62\n",
       "Iskadarya95               3                 $ 4.37              $ 13.10"
      ]
     },
     "execution_count": 52,
     "metadata": {},
     "output_type": "execute_result"
    }
   ],
   "source": [
    "top_spend_df"
   ]
  },
  {
   "cell_type": "markdown",
   "metadata": {},
   "source": [
    "## Most Popular Items"
   ]
  },
  {
   "cell_type": "code",
   "execution_count": 53,
   "metadata": {},
   "outputs": [
    {
     "data": {
      "text/html": [
       "<div>\n",
       "<style scoped>\n",
       "    .dataframe tbody tr th:only-of-type {\n",
       "        vertical-align: middle;\n",
       "    }\n",
       "\n",
       "    .dataframe tbody tr th {\n",
       "        vertical-align: top;\n",
       "    }\n",
       "\n",
       "    .dataframe thead th {\n",
       "        text-align: right;\n",
       "    }\n",
       "</style>\n",
       "<table border=\"1\" class=\"dataframe\">\n",
       "  <thead>\n",
       "    <tr style=\"text-align: right;\">\n",
       "      <th></th>\n",
       "      <th></th>\n",
       "      <th>Purchase Count</th>\n",
       "      <th>Item Price</th>\n",
       "      <th>Total Purchase Value</th>\n",
       "    </tr>\n",
       "    <tr>\n",
       "      <th>item_id</th>\n",
       "      <th>item_name</th>\n",
       "      <th></th>\n",
       "      <th></th>\n",
       "      <th></th>\n",
       "    </tr>\n",
       "  </thead>\n",
       "  <tbody>\n",
       "    <tr>\n",
       "      <th>178</th>\n",
       "      <th>Oathbreaker, Last Hope of the Breaking Storm</th>\n",
       "      <td>12</td>\n",
       "      <td>$ 4.23</td>\n",
       "      <td>$ 50.76</td>\n",
       "    </tr>\n",
       "    <tr>\n",
       "      <th>145</th>\n",
       "      <th>Fiery Glass Crusader</th>\n",
       "      <td>9</td>\n",
       "      <td>$ 4.58</td>\n",
       "      <td>$ 41.22</td>\n",
       "    </tr>\n",
       "    <tr>\n",
       "      <th>108</th>\n",
       "      <th>Extraction, Quickblade Of Trembling Hands</th>\n",
       "      <td>9</td>\n",
       "      <td>$ 3.53</td>\n",
       "      <td>$ 31.77</td>\n",
       "    </tr>\n",
       "    <tr>\n",
       "      <th>82</th>\n",
       "      <th>Nirvana</th>\n",
       "      <td>9</td>\n",
       "      <td>$ 4.90</td>\n",
       "      <td>$ 44.10</td>\n",
       "    </tr>\n",
       "    <tr>\n",
       "      <th>19</th>\n",
       "      <th>Pursuit, Cudgel of Necromancy</th>\n",
       "      <td>8</td>\n",
       "      <td>$ 1.02</td>\n",
       "      <td>$ 8.16</td>\n",
       "    </tr>\n",
       "  </tbody>\n",
       "</table>\n",
       "</div>"
      ],
      "text/plain": [
       "                                                      Purchase Count  \\\n",
       "item_id item_name                                                      \n",
       "178     Oathbreaker, Last Hope of the Breaking Storm              12   \n",
       "145     Fiery Glass Crusader                                       9   \n",
       "108     Extraction, Quickblade Of Trembling Hands                  9   \n",
       "82      Nirvana                                                    9   \n",
       "19      Pursuit, Cudgel of Necromancy                              8   \n",
       "\n",
       "                                                     Item Price  \\\n",
       "item_id item_name                                                 \n",
       "178     Oathbreaker, Last Hope of the Breaking Storm     $ 4.23   \n",
       "145     Fiery Glass Crusader                             $ 4.58   \n",
       "108     Extraction, Quickblade Of Trembling Hands        $ 3.53   \n",
       "82      Nirvana                                          $ 4.90   \n",
       "19      Pursuit, Cudgel of Necromancy                    $ 1.02   \n",
       "\n",
       "                                                     Total Purchase Value  \n",
       "item_id item_name                                                          \n",
       "178     Oathbreaker, Last Hope of the Breaking Storm              $ 50.76  \n",
       "145     Fiery Glass Crusader                                      $ 41.22  \n",
       "108     Extraction, Quickblade Of Trembling Hands                 $ 31.77  \n",
       "82      Nirvana                                                   $ 44.10  \n",
       "19      Pursuit, Cudgel of Necromancy                              $ 8.16  "
      ]
     },
     "execution_count": 53,
     "metadata": {},
     "output_type": "execute_result"
    }
   ],
   "source": [
    "popular_items_top_5"
   ]
  },
  {
   "cell_type": "markdown",
   "metadata": {},
   "source": [
    "## Most Profitable Items"
   ]
  },
  {
   "cell_type": "code",
   "execution_count": 54,
   "metadata": {},
   "outputs": [
    {
     "data": {
      "text/html": [
       "<div>\n",
       "<style scoped>\n",
       "    .dataframe tbody tr th:only-of-type {\n",
       "        vertical-align: middle;\n",
       "    }\n",
       "\n",
       "    .dataframe tbody tr th {\n",
       "        vertical-align: top;\n",
       "    }\n",
       "\n",
       "    .dataframe thead th {\n",
       "        text-align: right;\n",
       "    }\n",
       "</style>\n",
       "<table border=\"1\" class=\"dataframe\">\n",
       "  <thead>\n",
       "    <tr style=\"text-align: right;\">\n",
       "      <th></th>\n",
       "      <th></th>\n",
       "      <th>Purchase Count</th>\n",
       "      <th>Item Price</th>\n",
       "      <th>Total Purchase Value</th>\n",
       "    </tr>\n",
       "    <tr>\n",
       "      <th>item_id</th>\n",
       "      <th>item_name</th>\n",
       "      <th></th>\n",
       "      <th></th>\n",
       "      <th></th>\n",
       "    </tr>\n",
       "  </thead>\n",
       "  <tbody>\n",
       "    <tr>\n",
       "      <th>178</th>\n",
       "      <th>Oathbreaker, Last Hope of the Breaking Storm</th>\n",
       "      <td>12</td>\n",
       "      <td>$ 4.23</td>\n",
       "      <td>$ 50.76</td>\n",
       "    </tr>\n",
       "    <tr>\n",
       "      <th>82</th>\n",
       "      <th>Nirvana</th>\n",
       "      <td>9</td>\n",
       "      <td>$ 4.90</td>\n",
       "      <td>$ 44.10</td>\n",
       "    </tr>\n",
       "    <tr>\n",
       "      <th>145</th>\n",
       "      <th>Fiery Glass Crusader</th>\n",
       "      <td>9</td>\n",
       "      <td>$ 4.58</td>\n",
       "      <td>$ 41.22</td>\n",
       "    </tr>\n",
       "    <tr>\n",
       "      <th>92</th>\n",
       "      <th>Final Critic</th>\n",
       "      <td>8</td>\n",
       "      <td>$ 4.88</td>\n",
       "      <td>$ 39.04</td>\n",
       "    </tr>\n",
       "    <tr>\n",
       "      <th>103</th>\n",
       "      <th>Singed Scalpel</th>\n",
       "      <td>8</td>\n",
       "      <td>$ 4.35</td>\n",
       "      <td>$ 34.80</td>\n",
       "    </tr>\n",
       "  </tbody>\n",
       "</table>\n",
       "</div>"
      ],
      "text/plain": [
       "                                                      Purchase Count  \\\n",
       "item_id item_name                                                      \n",
       "178     Oathbreaker, Last Hope of the Breaking Storm              12   \n",
       "82      Nirvana                                                    9   \n",
       "145     Fiery Glass Crusader                                       9   \n",
       "92      Final Critic                                               8   \n",
       "103     Singed Scalpel                                             8   \n",
       "\n",
       "                                                     Item Price  \\\n",
       "item_id item_name                                                 \n",
       "178     Oathbreaker, Last Hope of the Breaking Storm     $ 4.23   \n",
       "82      Nirvana                                          $ 4.90   \n",
       "145     Fiery Glass Crusader                             $ 4.58   \n",
       "92      Final Critic                                     $ 4.88   \n",
       "103     Singed Scalpel                                   $ 4.35   \n",
       "\n",
       "                                                     Total Purchase Value  \n",
       "item_id item_name                                                          \n",
       "178     Oathbreaker, Last Hope of the Breaking Storm              $ 50.76  \n",
       "82      Nirvana                                                   $ 44.10  \n",
       "145     Fiery Glass Crusader                                      $ 41.22  \n",
       "92      Final Critic                                              $ 39.04  \n",
       "103     Singed Scalpel                                            $ 34.80  "
      ]
     },
     "execution_count": 54,
     "metadata": {},
     "output_type": "execute_result"
    }
   ],
   "source": [
    "most_profitale_items_df"
   ]
  }
 ],
 "metadata": {
  "environment": {
   "name": "common-cpu.m54",
   "type": "gcloud",
   "uri": "gcr.io/deeplearning-platform-release/base-cpu:m54"
  },
  "kernelspec": {
   "display_name": "Python 3",
   "language": "python",
   "name": "python3"
  },
  "language_info": {
   "codemirror_mode": {
    "name": "ipython",
    "version": 3
   },
   "file_extension": ".py",
   "mimetype": "text/x-python",
   "name": "python",
   "nbconvert_exporter": "python",
   "pygments_lexer": "ipython3",
   "version": "3.7.8"
  }
 },
 "nbformat": 4,
 "nbformat_minor": 4
}
