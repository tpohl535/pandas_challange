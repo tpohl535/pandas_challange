{
 "cells": [
  {
   "cell_type": "code",
   "execution_count": 1,
   "metadata": {},
   "outputs": [],
   "source": [
    "%load_ext lab_black"
   ]
  },
  {
   "cell_type": "code",
   "execution_count": 2,
   "metadata": {},
   "outputs": [],
   "source": [
    "import pandas as pd\n",
    "\n",
    "load_file = \"abc/purchase_data.csv\"\n",
    "df = pd.read_csv(load_file)"
   ]
  },
  {
   "cell_type": "code",
   "execution_count": 25,
   "metadata": {},
   "outputs": [],
   "source": [
    "def dollar_sign(amount):\n",
    "    return str.format(f\"$ {amount}\", {\".2f\"})\n",
    "\n",
    "\n",
    "def precent_sisn(value):\n",
    "    return f\"{value} %\""
   ]
  },
  {
   "cell_type": "code",
   "execution_count": 26,
   "metadata": {},
   "outputs": [],
   "source": [
    "clean_df = df.rename(columns=lambda s: s.lower().replace(\" \", \"_\"))"
   ]
  },
  {
   "cell_type": "markdown",
   "metadata": {},
   "source": [
    "## Player Count"
   ]
  },
  {
   "cell_type": "code",
   "execution_count": 27,
   "metadata": {},
   "outputs": [],
   "source": [
    "players_unique = clean_df[\"sn\"].nunique()"
   ]
  },
  {
   "cell_type": "code",
   "execution_count": 28,
   "metadata": {},
   "outputs": [],
   "source": [
    "t_players_df = pd.DataFrame([{\"Total Players\": players_unique}])"
   ]
  },
  {
   "cell_type": "code",
   "execution_count": 29,
   "metadata": {},
   "outputs": [
    {
     "data": {
      "text/html": [
       "<div>\n",
       "<style scoped>\n",
       "    .dataframe tbody tr th:only-of-type {\n",
       "        vertical-align: middle;\n",
       "    }\n",
       "\n",
       "    .dataframe tbody tr th {\n",
       "        vertical-align: top;\n",
       "    }\n",
       "\n",
       "    .dataframe thead th {\n",
       "        text-align: right;\n",
       "    }\n",
       "</style>\n",
       "<table border=\"1\" class=\"dataframe\">\n",
       "  <thead>\n",
       "    <tr style=\"text-align: right;\">\n",
       "      <th></th>\n",
       "      <th>Total Players</th>\n",
       "    </tr>\n",
       "  </thead>\n",
       "  <tbody>\n",
       "    <tr>\n",
       "      <th>0</th>\n",
       "      <td>576</td>\n",
       "    </tr>\n",
       "  </tbody>\n",
       "</table>\n",
       "</div>"
      ],
      "text/plain": [
       "   Total Players\n",
       "0            576"
      ]
     },
     "execution_count": 29,
     "metadata": {},
     "output_type": "execute_result"
    }
   ],
   "source": [
    "t_players_df"
   ]
  },
  {
   "cell_type": "markdown",
   "metadata": {},
   "source": [
    "## Purchasing Analysis (Total)"
   ]
  },
  {
   "cell_type": "code",
   "execution_count": 30,
   "metadata": {},
   "outputs": [],
   "source": [
    "items_unique = clean_df[\"item_name\"].nunique()\n",
    "avg_item_price = round(clean_df[\"price\"].mean(), 2)\n",
    "num_purchases = clean_df[\"item_name\"].count()\n",
    "total_rev = round(clean_df[\"price\"].sum(), 2)"
   ]
  },
  {
   "cell_type": "code",
   "execution_count": 31,
   "metadata": {},
   "outputs": [],
   "source": [
    "purch_analysis_df = pd.DataFrame(\n",
    "    {\n",
    "        \"Number of Unique Items\": [items_unique],\n",
    "        \"Average Sales Price\": [avg_item_price],\n",
    "        \"Total Number of Purchases\": [num_purchases],\n",
    "        \"Total Revanue\": [total_rev],\n",
    "    }\n",
    ")"
   ]
  },
  {
   "cell_type": "code",
   "execution_count": 32,
   "metadata": {},
   "outputs": [],
   "source": [
    "purch_analysis_df[\"Average Sales Price\"] = purch_analysis_df[\n",
    "    \"Average Sales Price\"\n",
    "].apply(dollar_sign)\n",
    "purch_analysis_df[\"Total Revanue\"] = purch_analysis_df[\"Total Revanue\"].apply(\n",
    "    dollar_sign\n",
    ")"
   ]
  },
  {
   "cell_type": "code",
   "execution_count": 33,
   "metadata": {},
   "outputs": [
    {
     "data": {
      "text/html": [
       "<div>\n",
       "<style scoped>\n",
       "    .dataframe tbody tr th:only-of-type {\n",
       "        vertical-align: middle;\n",
       "    }\n",
       "\n",
       "    .dataframe tbody tr th {\n",
       "        vertical-align: top;\n",
       "    }\n",
       "\n",
       "    .dataframe thead th {\n",
       "        text-align: right;\n",
       "    }\n",
       "</style>\n",
       "<table border=\"1\" class=\"dataframe\">\n",
       "  <thead>\n",
       "    <tr style=\"text-align: right;\">\n",
       "      <th></th>\n",
       "      <th>Number of Unique Items</th>\n",
       "      <th>Average Sales Price</th>\n",
       "      <th>Total Number of Purchases</th>\n",
       "      <th>Total Revanue</th>\n",
       "    </tr>\n",
       "  </thead>\n",
       "  <tbody>\n",
       "    <tr>\n",
       "      <th>0</th>\n",
       "      <td>179</td>\n",
       "      <td>$ 3.05</td>\n",
       "      <td>780</td>\n",
       "      <td>$ 2379.77</td>\n",
       "    </tr>\n",
       "  </tbody>\n",
       "</table>\n",
       "</div>"
      ],
      "text/plain": [
       "   Number of Unique Items Average Sales Price  Total Number of Purchases  \\\n",
       "0                     179              $ 3.05                        780   \n",
       "\n",
       "  Total Revanue  \n",
       "0     $ 2379.77  "
      ]
     },
     "execution_count": 33,
     "metadata": {},
     "output_type": "execute_result"
    }
   ],
   "source": [
    "purch_analysis_df"
   ]
  },
  {
   "cell_type": "markdown",
   "metadata": {},
   "source": [
    "## Gender Demographics"
   ]
  },
  {
   "cell_type": "code",
   "execution_count": 34,
   "metadata": {},
   "outputs": [],
   "source": [
    "count_male = clean_df.loc[clean_df[\"gender\"] == \"Male\", \"sn\"].nunique()\n",
    "count_female = clean_df.loc[clean_df[\"gender\"] == \"Female\", \"sn\"].nunique()\n",
    "count_other = clean_df.loc[\n",
    "    clean_df[\"gender\"] == \"Other / Non-Disclosed\", \"sn\"\n",
    "].nunique()"
   ]
  },
  {
   "cell_type": "code",
   "execution_count": 35,
   "metadata": {},
   "outputs": [],
   "source": [
    "prec_male = round((count_male / players_unique * 100), 2)\n",
    "prec_female = round((count_female / players_unique * 100), 2)\n",
    "prec_other = round((count_other / players_unique * 100), 2)"
   ]
  },
  {
   "cell_type": "code",
   "execution_count": 36,
   "metadata": {},
   "outputs": [],
   "source": [
    "gender_df = pd.DataFrame(\n",
    "    {\n",
    "        \"Total Count\": [count_male, count_female, count_other],\n",
    "        \"Precentage of Players\": [prec_male, prec_female, prec_other],\n",
    "    },\n",
    "    index=[\"Male\", \"Female\", \"Other / Non-Disclosed\"],\n",
    ")"
   ]
  },
  {
   "cell_type": "code",
   "execution_count": 37,
   "metadata": {},
   "outputs": [],
   "source": [
    "gender_df[\"Precentage of Players\"] = gender_df[\"Precentage of Players\"].apply(\n",
    "    precent_sisn\n",
    ")"
   ]
  },
  {
   "cell_type": "code",
   "execution_count": 38,
   "metadata": {},
   "outputs": [
    {
     "data": {
      "text/html": [
       "<div>\n",
       "<style scoped>\n",
       "    .dataframe tbody tr th:only-of-type {\n",
       "        vertical-align: middle;\n",
       "    }\n",
       "\n",
       "    .dataframe tbody tr th {\n",
       "        vertical-align: top;\n",
       "    }\n",
       "\n",
       "    .dataframe thead th {\n",
       "        text-align: right;\n",
       "    }\n",
       "</style>\n",
       "<table border=\"1\" class=\"dataframe\">\n",
       "  <thead>\n",
       "    <tr style=\"text-align: right;\">\n",
       "      <th></th>\n",
       "      <th>Total Count</th>\n",
       "      <th>Precentage of Players</th>\n",
       "    </tr>\n",
       "  </thead>\n",
       "  <tbody>\n",
       "    <tr>\n",
       "      <th>Male</th>\n",
       "      <td>484</td>\n",
       "      <td>84.03 %</td>\n",
       "    </tr>\n",
       "    <tr>\n",
       "      <th>Female</th>\n",
       "      <td>81</td>\n",
       "      <td>14.06 %</td>\n",
       "    </tr>\n",
       "    <tr>\n",
       "      <th>Other / Non-Disclosed</th>\n",
       "      <td>11</td>\n",
       "      <td>1.91 %</td>\n",
       "    </tr>\n",
       "  </tbody>\n",
       "</table>\n",
       "</div>"
      ],
      "text/plain": [
       "                       Total Count Precentage of Players\n",
       "Male                           484               84.03 %\n",
       "Female                          81               14.06 %\n",
       "Other / Non-Disclosed           11                1.91 %"
      ]
     },
     "execution_count": 38,
     "metadata": {},
     "output_type": "execute_result"
    }
   ],
   "source": [
    "gender_df"
   ]
  },
  {
   "cell_type": "markdown",
   "metadata": {},
   "source": [
    "## Purchasing Analysis (Gender)"
   ]
  },
  {
   "cell_type": "code",
   "execution_count": 40,
   "metadata": {},
   "outputs": [],
   "source": [
    "purchas_count_male = clean_df.loc[clean_df[\"gender\"] == \"Male\", \"sn\"].count()\n",
    "purchas_count_female = clean_df.loc[clean_df[\"gender\"] == \"Female\", \"sn\"].count()\n",
    "purchas_count_other = clean_df.loc[\n",
    "    clean_df[\"gender\"] == \"Other / Non-Disclosed\", \"sn\"\n",
    "].count()"
   ]
  },
  {
   "cell_type": "code",
   "execution_count": 41,
   "metadata": {},
   "outputs": [],
   "source": [
    "average_purchase_male = round(\n",
    "    clean_df.loc[clean_df[\"gender\"] == \"Male\", \"price\"].mean(), 2\n",
    ")\n",
    "average_purchase_female = round(\n",
    "    clean_df.loc[clean_df[\"gender\"] == \"Female\", \"price\"].mean(), 2\n",
    ")\n",
    "average_purchase_ohter = round(\n",
    "    clean_df.loc[clean_df[\"gender\"] == \"Other / Non-Disclosed\", \"price\"].mean(), 2\n",
    ")"
   ]
  },
  {
   "cell_type": "code",
   "execution_count": 42,
   "metadata": {},
   "outputs": [],
   "source": [
    "rev_total_male = clean_df.loc[clean_df[\"gender\"] == \"Male\", \"price\"].sum()\n",
    "rev_total_female = clean_df.loc[clean_df[\"gender\"] == \"Female\", \"price\"].sum()\n",
    "rev_total_other = clean_df.loc[\n",
    "    clean_df[\"gender\"] == \"Other / Non-Disclosed\", \"price\"\n",
    "].sum()"
   ]
  },
  {
   "cell_type": "code",
   "execution_count": 43,
   "metadata": {},
   "outputs": [],
   "source": [
    "sales_per_male = round(rev_total_male / count_male, 2)\n",
    "sales_per_female = round(rev_total_female / count_female, 2)\n",
    "sales_per_mother = round(rev_total_other / count_other, 2)"
   ]
  },
  {
   "cell_type": "code",
   "execution_count": 44,
   "metadata": {},
   "outputs": [],
   "source": [
    "gender_analysis_df = pd.DataFrame(\n",
    "    {\n",
    "        \"Purchase Count\": [\n",
    "            purchas_count_male,\n",
    "            purchas_count_female,\n",
    "            purchas_count_other,\n",
    "        ],\n",
    "        \"Average Purchase Price\": [\n",
    "            average_purchase_male,\n",
    "            average_purchase_female,\n",
    "            average_purchase_ohter,\n",
    "        ],\n",
    "        \"Total Purchase Value\": [rev_total_male, rev_total_female, rev_total_other],\n",
    "        \"Avg Total Purchase per Person\": [\n",
    "            sales_per_male,\n",
    "            sales_per_female,\n",
    "            sales_per_mother,\n",
    "        ],\n",
    "    },\n",
    "    index=[\"Male\", \"Female\", \"Other / Non-Disclosed\"],\n",
    ")"
   ]
  },
  {
   "cell_type": "code",
   "execution_count": 45,
   "metadata": {},
   "outputs": [],
   "source": [
    "gender_analysis_df[\"Average Purchase Price\"] = gender_analysis_df[\n",
    "    \"Average Purchase Price\"\n",
    "].apply(dollar_sign)\n",
    "gender_analysis_df[\"Total Purchase Value\"] = gender_analysis_df[\n",
    "    \"Total Purchase Value\"\n",
    "].apply(dollar_sign)\n",
    "gender_analysis_df[\"Avg Total Purchase per Person\"] = gender_analysis_df[\n",
    "    \"Avg Total Purchase per Person\"\n",
    "].apply(dollar_sign)"
   ]
  },
  {
   "cell_type": "code",
   "execution_count": 46,
   "metadata": {},
   "outputs": [
    {
     "data": {
      "text/html": [
       "<div>\n",
       "<style scoped>\n",
       "    .dataframe tbody tr th:only-of-type {\n",
       "        vertical-align: middle;\n",
       "    }\n",
       "\n",
       "    .dataframe tbody tr th {\n",
       "        vertical-align: top;\n",
       "    }\n",
       "\n",
       "    .dataframe thead th {\n",
       "        text-align: right;\n",
       "    }\n",
       "</style>\n",
       "<table border=\"1\" class=\"dataframe\">\n",
       "  <thead>\n",
       "    <tr style=\"text-align: right;\">\n",
       "      <th></th>\n",
       "      <th>Purchase Count</th>\n",
       "      <th>Average Purchase Price</th>\n",
       "      <th>Total Purchase Value</th>\n",
       "      <th>Avg Total Purchase per Person</th>\n",
       "    </tr>\n",
       "  </thead>\n",
       "  <tbody>\n",
       "    <tr>\n",
       "      <th>Male</th>\n",
       "      <td>652</td>\n",
       "      <td>$ 3.02</td>\n",
       "      <td>$ 1967.64</td>\n",
       "      <td>$ 4.07</td>\n",
       "    </tr>\n",
       "    <tr>\n",
       "      <th>Female</th>\n",
       "      <td>113</td>\n",
       "      <td>$ 3.2</td>\n",
       "      <td>$ 361.94</td>\n",
       "      <td>$ 4.47</td>\n",
       "    </tr>\n",
       "    <tr>\n",
       "      <th>Other / Non-Disclosed</th>\n",
       "      <td>15</td>\n",
       "      <td>$ 3.35</td>\n",
       "      <td>$ 50.19</td>\n",
       "      <td>$ 4.56</td>\n",
       "    </tr>\n",
       "  </tbody>\n",
       "</table>\n",
       "</div>"
      ],
      "text/plain": [
       "                       Purchase Count Average Purchase Price  \\\n",
       "Male                              652                 $ 3.02   \n",
       "Female                            113                  $ 3.2   \n",
       "Other / Non-Disclosed              15                 $ 3.35   \n",
       "\n",
       "                      Total Purchase Value Avg Total Purchase per Person  \n",
       "Male                             $ 1967.64                        $ 4.07  \n",
       "Female                            $ 361.94                        $ 4.47  \n",
       "Other / Non-Disclosed              $ 50.19                        $ 4.56  "
      ]
     },
     "execution_count": 46,
     "metadata": {},
     "output_type": "execute_result"
    }
   ],
   "source": [
    "gender_analysis_df"
   ]
  },
  {
   "cell_type": "code",
   "execution_count": null,
   "metadata": {},
   "outputs": [],
   "source": []
  },
  {
   "cell_type": "code",
   "execution_count": null,
   "metadata": {},
   "outputs": [],
   "source": []
  }
 ],
 "metadata": {
  "environment": {
   "name": "common-cpu.m54",
   "type": "gcloud",
   "uri": "gcr.io/deeplearning-platform-release/base-cpu:m54"
  },
  "kernelspec": {
   "display_name": "Python 3",
   "language": "python",
   "name": "python3"
  },
  "language_info": {
   "codemirror_mode": {
    "name": "ipython",
    "version": 3
   },
   "file_extension": ".py",
   "mimetype": "text/x-python",
   "name": "python",
   "nbconvert_exporter": "python",
   "pygments_lexer": "ipython3",
   "version": "3.7.8"
  }
 },
 "nbformat": 4,
 "nbformat_minor": 4
}
